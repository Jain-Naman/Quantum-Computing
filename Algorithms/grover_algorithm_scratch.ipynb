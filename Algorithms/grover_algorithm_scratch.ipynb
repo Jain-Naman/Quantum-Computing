{
 "cells": [
  {
   "cell_type": "code",
   "execution_count": 1,
   "metadata": {},
   "outputs": [],
   "source": [
    "# importing required modules\n",
    "\n",
    "import numpy as np\n",
    "import matplotlib.pyplot as plt\n",
    "import math\n",
    "import cmath\n",
    "import time"
   ]
  },
  {
   "cell_type": "code",
   "execution_count": 2,
   "metadata": {},
   "outputs": [],
   "source": [
    "# initialising non-quantum constants\n",
    "    \n",
    "j = complex(0,1)"
   ]
  },
  {
   "cell_type": "code",
   "execution_count": 3,
   "metadata": {},
   "outputs": [],
   "source": [
    "# initialising quantum constants\n",
    "\n",
    "# basis vectors\n",
    "q_zero = np.array([[1] , [0]])\n",
    "q_one = np.array([[0] , [1]])\n",
    "\n",
    "# q - gates\n",
    "\n",
    "# Pauli operators\n",
    "px = np.array([[0 , 1], [1 , 0]])\n",
    "py = np.array([[0 , j], [j , 0]])\n",
    "pz = np.array([[1 , 0], [0 , -1]])\n",
    "\n",
    "# Hadamard operator\n",
    "h = (1/math.sqrt(2)) * np.array([[1 , 1], [1 , -1]])\n",
    "\n",
    "# Controlled operators\n",
    "cz = np.array([[1, 0, 0, 0], [0, 1, 0, 0], [0, 0, 1, 0], [0, 0, 0, -1]])"
   ]
  },
  {
   "cell_type": "code",
   "execution_count": 4,
   "metadata": {},
   "outputs": [],
   "source": [
    "# defining basic matrix operations\n",
    "\n",
    "def tensor_product(v, *args, **kwargs):\n",
    "    result = v\n",
    "\n",
    "    if len(kwargs) !=0 :\n",
    "        for i in range(kwargs['n'] - 1):\n",
    "            result = np.kron(result, v)\n",
    "    \n",
    "    else:\n",
    "        for arg in args:\n",
    "            result = np.kron(result, arg)\n",
    "\n",
    "    return result"
   ]
  },
  {
   "cell_type": "code",
   "execution_count": 5,
   "metadata": {},
   "outputs": [],
   "source": [
    "# Grovers algorithm for n qubit system to find k (N =)\n",
    "\n",
    "class Grovers:\n",
    "    def __init__(self, k, N = 2):\n",
    "        self.n = math.ceil(math.log2(N))\n",
    "        self.iters = int((math.pi/ 4) * math.sqrt(2**self.n))\n",
    "        self.oracle = np.identity(2**self.n)\n",
    "        self.oracle[k][k] = -self.oracle[k][k]\n",
    "    \n",
    "    def superpose(self):\n",
    "        nh = tensor_product(h, n = self.n)\n",
    "        self.psi = np.dot(nh, tensor_product(q_zero, n = self.n))\n",
    "        self.psi_copy = self.psi\n",
    "        self.amplify = 2 * np.dot(self.psi_copy, self.psi_copy.conjugate().T) - \\\n",
    "        np.identity(2**self.n)\n",
    "        return self.psi    \n",
    "    \n",
    "    def grover_search(self):\n",
    "        for _ in range(self.iters):\n",
    "            flip = np.dot(self.oracle, self.psi)\n",
    "            self.psi = np.dot(self.amplify, flip)\n",
    "        return self.psi\n",
    "    \n",
    "    # In development !\n",
    "    def plot_bar(self):\n",
    "        x = [str(int(i)) for i in range(2**self.n)]\n",
    "        y_amp = self.psi.T.reshape(2**self.n,)\n",
    "        y_pb = y_amp **2\n",
    "        plt.ylabel('Probalility')\n",
    "        plt.xlabel('Indexes')\n",
    "        plt.title('Probability of finding ...')\n",
    "        plt.bar(x, y_pb)\n",
    "        plt.show()"
   ]
  },
  {
   "cell_type": "code",
   "execution_count": 6,
   "metadata": {},
   "outputs": [
    {
     "name": "stdout",
     "output_type": "stream",
     "text": [
      "Probabilities: \n",
      " [[2.63769180e-05 2.63769180e-05 2.63769180e-05 2.63769180e-05\n",
      "  2.63769180e-05 2.63769180e-05 2.63769180e-05 2.63769180e-05\n",
      "  2.63769180e-05 2.63769180e-05 2.63769180e-05 2.63769180e-05\n",
      "  2.63769180e-05 2.63769180e-05 2.63769180e-05 9.99182316e-01\n",
      "  2.63769180e-05 2.63769180e-05 2.63769180e-05 2.63769180e-05\n",
      "  2.63769180e-05 2.63769180e-05 2.63769180e-05 2.63769180e-05\n",
      "  2.63769180e-05 2.63769180e-05 2.63769180e-05 2.63769180e-05\n",
      "  2.63769180e-05 2.63769180e-05 2.63769180e-05 2.63769180e-05]]\n",
      "\n",
      "Iterations:  4\n",
      "Time:  0.00015044212341308594\n"
     ]
    }
   ],
   "source": [
    "grov = Grovers(15, N = 2**5)\n",
    "grov.superpose()\n",
    "\n",
    "start = time.time()\n",
    "res = grov.grover_search()\n",
    "end = time.time()\n",
    "\n",
    "print('Probabilities: \\n', (res**2).T)\n",
    "print('\\nIterations: ', grov.iters)\n",
    "print('Time: ', end-start )"
   ]
  },
  {
   "cell_type": "code",
   "execution_count": 7,
   "metadata": {},
   "outputs": [
    {
     "data": {
      "image/png": "[encoded data removed]",
      "text/plain": [
       "<Figure size 640x480 with 1 Axes>"
      ]
     },
     "metadata": {},
     "output_type": "display_data"
    }
   ],
   "source": [
    "# Grovers algorithm for two qubit system\n",
    "\n",
    "diffusion = np.dot(cz, tensor_product(pz, pz))\n",
    "nh = tensor_product(h, n=2)\n",
    "\n",
    "# Step 1: uniform superposition\n",
    "s = np.dot(nh, tensor_product(q_zero, n=2))\n",
    "\n",
    "# Step 2: Oracle for state |01>\n",
    "Uw = np.array([[1, 0, 0, 0], [0, -1, 0, 0], [0, 0, 1, 0], [0, 0, 0, 1]])\n",
    "psi = np.dot(Uw, s)\n",
    "\n",
    "# Step 3: Amplitude amplification\n",
    "\n",
    "Us = np.dot(nh, np.dot(diffusion, nh))\n",
    "\n",
    "# Us = 2 * np.dot(s, s.T) - np.identity(4)\n",
    "amplitudes = np.dot(Us, psi)\n",
    "\n",
    "# Plot\n",
    "plt.bar([bin(i)[2:] for i in range(4)], amplitudes.T.reshape(4,)**2)\n",
    "plt.show()"
   ]
  },
  {
   "cell_type": "code",
   "execution_count": 8,
   "metadata": {},
   "outputs": [
    {
     "name": "stdout",
     "output_type": "stream",
     "text": [
      "Time taken:   0.00014162063598632812\n"
     ]
    },
    {
     "data": {
      "image/png": "[encoded data removed]",
      "text/plain": [
       "<Figure size 640x480 with 1 Axes>"
      ]
     },
     "metadata": {},
     "output_type": "display_data"
    }
   ],
   "source": [
    "# Grovers algorithm for three qubit system\n",
    "\n",
    "nh = tensor_product(h, n=3)\n",
    "\n",
    "# Step 1: uniform superposition\n",
    "s = np.dot(nh, tensor_product(q_zero, n=3))\n",
    "\n",
    "# Oracle for w = |011>\n",
    "Uw = np.identity(8)\n",
    "Uw[3] = Uw[3] * -1\n",
    "\n",
    "start = time.time()\n",
    "\n",
    "# Step 2: Grovers iteration\n",
    "for i in range(2):\n",
    "    # Applying orcacle\n",
    "    psi = np.dot(Uw, s)\n",
    "\n",
    "    # Grovers operator\n",
    "    avg = np.sum(psi) / 8\n",
    "    s = 2 * avg - psi \n",
    "    # amplitudes = np.dot(Us, psi)\n",
    "\n",
    "end = time.time()\n",
    "\n",
    "amplitudes = s\n",
    "print('Time taken:  ', end - start)\n",
    "\n",
    "# Plot\n",
    "plt.bar([bin(i)[2:] for i in range(8)], amplitudes.T.reshape(8,)**2)\n",
    "plt.show()"
   ]
  },
  {
   "cell_type": "code",
   "execution_count": null,
   "metadata": {},
   "outputs": [],
   "source": []
  }
 ],
 "metadata": {
  "kernelspec": {
   "display_name": "Python 3.10.6 ('q_algo': venv)",
   "language": "python",
   "name": "python3"
  },
  "language_info": {
   "codemirror_mode": {
    "name": "ipython",
    "version": 3
   },
   "file_extension": ".py",
   "mimetype": "text/x-python",
   "name": "python",
   "nbconvert_exporter": "python",
   "pygments_lexer": "ipython3",
   "version": "3.10.6"
  },
  "orig_nbformat": 2,
  "vscode": {
   "interpreter": {
    "hash": "2fc5f172eb0dcb6a07c49f24772fefb4fc8a90ee90a5e430e989c37058e85834"
   }
  }
 },
 "nbformat": 4,
 "nbformat_minor": 2
}
